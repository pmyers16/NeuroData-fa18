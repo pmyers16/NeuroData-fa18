{
 "cells": [
  {
   "cell_type": "code",
   "execution_count": 1,
   "metadata": {},
   "outputs": [],
   "source": [
    "import numpy as np\n",
    "import pandas as pd\n",
    "import matplotlib.pyplot as plt\n",
    "\n",
    "from sklearn.decomposition import PCA\n",
    "from sklearn.manifold import TSNE\n",
    "\n",
    "from sklearn.cluster import KMeans\n",
    "from sklearn.ensemble import RandomForestClassifier as RF\n",
    "from sklearn.metrics import accuracy_score"
   ]
  },
  {
   "cell_type": "code",
   "execution_count": 2,
   "metadata": {},
   "outputs": [
    {
     "data": {
      "text/html": [
       "<div>\n",
       "<style scoped>\n",
       "    .dataframe tbody tr th:only-of-type {\n",
       "        vertical-align: middle;\n",
       "    }\n",
       "\n",
       "    .dataframe tbody tr th {\n",
       "        vertical-align: top;\n",
       "    }\n",
       "\n",
       "    .dataframe thead th {\n",
       "        text-align: right;\n",
       "    }\n",
       "</style>\n",
       "<table border=\"1\" class=\"dataframe\">\n",
       "  <thead>\n",
       "    <tr style=\"text-align: right;\">\n",
       "      <th></th>\n",
       "      <th>id</th>\n",
       "      <th>sex</th>\n",
       "      <th>age</th>\n",
       "      <th>0</th>\n",
       "      <th>1</th>\n",
       "      <th>2</th>\n",
       "      <th>3</th>\n",
       "      <th>4</th>\n",
       "      <th>5</th>\n",
       "      <th>6</th>\n",
       "      <th>...</th>\n",
       "      <th>86</th>\n",
       "      <th>87</th>\n",
       "      <th>88</th>\n",
       "      <th>89</th>\n",
       "      <th>90</th>\n",
       "      <th>91</th>\n",
       "      <th>92</th>\n",
       "      <th>93</th>\n",
       "      <th>94</th>\n",
       "      <th>95</th>\n",
       "    </tr>\n",
       "  </thead>\n",
       "  <tbody>\n",
       "    <tr>\n",
       "      <th>0</th>\n",
       "      <td>NDARED632KNG</td>\n",
       "      <td>1</td>\n",
       "      <td>17.203855</td>\n",
       "      <td>260</td>\n",
       "      <td>475</td>\n",
       "      <td>402</td>\n",
       "      <td>479</td>\n",
       "      <td>34</td>\n",
       "      <td>427</td>\n",
       "      <td>260</td>\n",
       "      <td>...</td>\n",
       "      <td>9</td>\n",
       "      <td>297</td>\n",
       "      <td>13</td>\n",
       "      <td>297</td>\n",
       "      <td>9</td>\n",
       "      <td>262</td>\n",
       "      <td>13</td>\n",
       "      <td>297</td>\n",
       "      <td>10</td>\n",
       "      <td>262</td>\n",
       "    </tr>\n",
       "    <tr>\n",
       "      <th>1</th>\n",
       "      <td>NDARFM080VAF</td>\n",
       "      <td>1</td>\n",
       "      <td>7.623203</td>\n",
       "      <td>134</td>\n",
       "      <td>396</td>\n",
       "      <td>35</td>\n",
       "      <td>311</td>\n",
       "      <td>273</td>\n",
       "      <td>404</td>\n",
       "      <td>269</td>\n",
       "      <td>...</td>\n",
       "      <td>12</td>\n",
       "      <td>320</td>\n",
       "      <td>13</td>\n",
       "      <td>218</td>\n",
       "      <td>10</td>\n",
       "      <td>218</td>\n",
       "      <td>9</td>\n",
       "      <td>199</td>\n",
       "      <td>9</td>\n",
       "      <td>218</td>\n",
       "    </tr>\n",
       "    <tr>\n",
       "      <th>2</th>\n",
       "      <td>NDARFW130NGG</td>\n",
       "      <td>1</td>\n",
       "      <td>8.316107</td>\n",
       "      <td>197</td>\n",
       "      <td>418</td>\n",
       "      <td>295</td>\n",
       "      <td>418</td>\n",
       "      <td>41</td>\n",
       "      <td>371</td>\n",
       "      <td>288</td>\n",
       "      <td>...</td>\n",
       "      <td>10</td>\n",
       "      <td>154</td>\n",
       "      <td>14</td>\n",
       "      <td>228</td>\n",
       "      <td>10</td>\n",
       "      <td>154</td>\n",
       "      <td>10</td>\n",
       "      <td>154</td>\n",
       "      <td>18</td>\n",
       "      <td>260</td>\n",
       "    </tr>\n",
       "    <tr>\n",
       "      <th>3</th>\n",
       "      <td>NDARHP656DLC</td>\n",
       "      <td>0</td>\n",
       "      <td>10.936459</td>\n",
       "      <td>148</td>\n",
       "      <td>322</td>\n",
       "      <td>35</td>\n",
       "      <td>232</td>\n",
       "      <td>182</td>\n",
       "      <td>322</td>\n",
       "      <td>120</td>\n",
       "      <td>...</td>\n",
       "      <td>6</td>\n",
       "      <td>153</td>\n",
       "      <td>9</td>\n",
       "      <td>153</td>\n",
       "      <td>16</td>\n",
       "      <td>156</td>\n",
       "      <td>9</td>\n",
       "      <td>156</td>\n",
       "      <td>6</td>\n",
       "      <td>16</td>\n",
       "    </tr>\n",
       "    <tr>\n",
       "      <th>4</th>\n",
       "      <td>NDARDR658DRA</td>\n",
       "      <td>0</td>\n",
       "      <td>6.421857</td>\n",
       "      <td>233</td>\n",
       "      <td>456</td>\n",
       "      <td>142</td>\n",
       "      <td>452</td>\n",
       "      <td>31</td>\n",
       "      <td>440</td>\n",
       "      <td>366</td>\n",
       "      <td>...</td>\n",
       "      <td>13</td>\n",
       "      <td>187</td>\n",
       "      <td>13</td>\n",
       "      <td>247</td>\n",
       "      <td>16</td>\n",
       "      <td>247</td>\n",
       "      <td>10</td>\n",
       "      <td>187</td>\n",
       "      <td>10</td>\n",
       "      <td>187</td>\n",
       "    </tr>\n",
       "  </tbody>\n",
       "</table>\n",
       "<p>5 rows × 99 columns</p>\n",
       "</div>"
      ],
      "text/plain": [
       "             id  sex        age    0    1    2    3    4    5    6 ...   86  \\\n",
       "0  NDARED632KNG    1  17.203855  260  475  402  479   34  427  260 ...    9   \n",
       "1  NDARFM080VAF    1   7.623203  134  396   35  311  273  404  269 ...   12   \n",
       "2  NDARFW130NGG    1   8.316107  197  418  295  418   41  371  288 ...   10   \n",
       "3  NDARHP656DLC    0  10.936459  148  322   35  232  182  322  120 ...    6   \n",
       "4  NDARDR658DRA    0   6.421857  233  456  142  452   31  440  366 ...   13   \n",
       "\n",
       "    87  88   89  90   91  92   93  94   95  \n",
       "0  297  13  297   9  262  13  297  10  262  \n",
       "1  320  13  218  10  218   9  199   9  218  \n",
       "2  154  14  228  10  154  10  154  18  260  \n",
       "3  153   9  153  16  156   9  156   6   16  \n",
       "4  187  13  247  16  247  10  187  10  187  \n",
       "\n",
       "[5 rows x 99 columns]"
      ]
     },
     "execution_count": 2,
     "metadata": {},
     "output_type": "execute_result"
    }
   ],
   "source": [
    "df = pd.read_csv('klocality_with_age-sex.csv')\n",
    "df.head()"
   ]
  },
  {
   "cell_type": "code",
   "execution_count": 3,
   "metadata": {},
   "outputs": [
    {
     "data": {
      "image/png": "[encoded data removed]",
      "text/plain": [
       "<matplotlib.figure.Figure at 0x1174e1b00>"
      ]
     },
     "metadata": {},
     "output_type": "display_data"
    }
   ],
   "source": [
    "plt.hist([df[col].var() for col in df.columns[3:]], bins=15)\n",
    "plt.show()    "
   ]
  },
  {
   "cell_type": "code",
   "execution_count": 25,
   "metadata": {},
   "outputs": [],
   "source": [
    "pca = PCA(n_components=10).fit(df[df.columns[3:]])"
   ]
  },
  {
   "cell_type": "code",
   "execution_count": 26,
   "metadata": {},
   "outputs": [
    {
     "data": {
      "text/plain": [
       "array([0.4605544 , 0.05299993, 0.03972849, 0.03509351, 0.02980133,\n",
       "       0.02591051, 0.02306426, 0.02177449, 0.02119065, 0.01912112])"
      ]
     },
     "execution_count": 26,
     "metadata": {},
     "output_type": "execute_result"
    }
   ],
   "source": [
    "pca.explained_variance_ratio_"
   ]
  },
  {
   "cell_type": "code",
   "execution_count": 27,
   "metadata": {},
   "outputs": [
    {
     "data": {
      "image/png": "[encoded data removed]",
      "text/plain": [
       "<matplotlib.figure.Figure at 0x117ff6358>"
      ]
     },
     "metadata": {},
     "output_type": "display_data"
    }
   ],
   "source": [
    "plt.scatter([x[0] for x in X], \n",
    "            [x[1] for x in X],\n",
    "            c=list(df['sex']))\n",
    "plt.show()"
   ]
  },
  {
   "cell_type": "code",
   "execution_count": 7,
   "metadata": {},
   "outputs": [
    {
     "data": {
      "text/plain": [
       "0.5494505494505495"
      ]
     },
     "execution_count": 7,
     "metadata": {},
     "output_type": "execute_result"
    }
   ],
   "source": [
    "kmeans = KMeans(n_clusters=2, random_state=0).fit(df[df.columns[3:]])\n",
    "accuracy_score(np.array(df['sex']), kmeans.labels_)"
   ]
  },
  {
   "cell_type": "code",
   "execution_count": 8,
   "metadata": {},
   "outputs": [],
   "source": [
    "from sklearn.ensemble import AdaBoostClassifier, RandomForestClassifier\n",
    "from sklearn.model_selection import KFold"
   ]
  },
  {
   "cell_type": "code",
   "execution_count": 61,
   "metadata": {},
   "outputs": [],
   "source": [
    "kf = KFold(n_splits=5)\n",
    "clf = RandomForestClassifier()"
   ]
  },
  {
   "cell_type": "code",
   "execution_count": 62,
   "metadata": {},
   "outputs": [],
   "source": [
    "df_data = df[df.columns[3:]]\n",
    "labels = df['sex']\n",
    "\n",
    "acc = []\n",
    "\n",
    "for train, test in kf.split(df):\n",
    "    \n",
    "    # Split into train/test sets\n",
    "    X_train, y_train, X_test, y_test = df_data.iloc[train], labels.iloc[train], df_data.iloc[test], labels.iloc[test]\n",
    "\n",
    "    # Fit training data to model and predict test cases\n",
    "    y_pred = clf.fit(X_train, y_train).predict(X_test)\n",
    "\n",
    "    # Score the prediction\n",
    "    acc.append(accuracy_score(y_test, y_pred))"
   ]
  },
  {
   "cell_type": "code",
   "execution_count": 63,
   "metadata": {},
   "outputs": [
    {
     "data": {
      "text/plain": [
       "0.6812865497076024"
      ]
     },
     "execution_count": 63,
     "metadata": {},
     "output_type": "execute_result"
    }
   ],
   "source": [
    "np.mean(acc)"
   ]
  },
  {
   "cell_type": "code",
   "execution_count": 64,
   "metadata": {},
   "outputs": [
    {
     "data": {
      "text/plain": [
       "[0.6842105263157895,\n",
       " 0.8333333333333334,\n",
       " 0.7777777777777778,\n",
       " 0.5,\n",
       " 0.6111111111111112]"
      ]
     },
     "execution_count": 64,
     "metadata": {},
     "output_type": "execute_result"
    }
   ],
   "source": [
    "acc"
   ]
  },
  {
   "cell_type": "code",
   "execution_count": null,
   "metadata": {},
   "outputs": [],
   "source": []
  }
 ],
 "metadata": {
  "kernelspec": {
   "display_name": "Python 3",
   "language": "python",
   "name": "python3"
  },
  "language_info": {
   "codemirror_mode": {
    "name": "ipython",
    "version": 3
   },
   "file_extension": ".py",
   "mimetype": "text/x-python",
   "name": "python",
   "nbconvert_exporter": "python",
   "pygments_lexer": "ipython3",
   "version": "3.6.4"
  }
 },
 "nbformat": 4,
 "nbformat_minor": 2
}
