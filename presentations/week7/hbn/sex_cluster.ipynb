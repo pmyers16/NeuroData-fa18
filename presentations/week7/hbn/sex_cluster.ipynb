{
 "cells": [
  {
   "cell_type": "code",
   "execution_count": 1,
   "metadata": {},
   "outputs": [],
   "source": [
    "import numpy as np\n",
    "import pandas as pd\n",
    "import matplotlib.pyplot as plt\n",
    "\n",
    "# from sklearn.decomposition import PCA\n",
    "# from sklearn.manifold import TSNE\n",
    "\n",
    "from sklearn.cluster import KMeans\n",
    "from sklearn.ensemble import RandomForestClassifier as RF\n",
    "from sklearn.metrics import accuracy_score"
   ]
  },
  {
   "cell_type": "code",
   "execution_count": 2,
   "metadata": {},
   "outputs": [
    {
     "data": {
      "text/html": [
       "<div>\n",
       "<style scoped>\n",
       "    .dataframe tbody tr th:only-of-type {\n",
       "        vertical-align: middle;\n",
       "    }\n",
       "\n",
       "    .dataframe tbody tr th {\n",
       "        vertical-align: top;\n",
       "    }\n",
       "\n",
       "    .dataframe thead th {\n",
       "        text-align: right;\n",
       "    }\n",
       "</style>\n",
       "<table border=\"1\" class=\"dataframe\">\n",
       "  <thead>\n",
       "    <tr style=\"text-align: right;\">\n",
       "      <th></th>\n",
       "      <th>id</th>\n",
       "      <th>sex</th>\n",
       "      <th>age</th>\n",
       "      <th>0</th>\n",
       "      <th>1</th>\n",
       "      <th>2</th>\n",
       "      <th>3</th>\n",
       "      <th>4</th>\n",
       "      <th>5</th>\n",
       "      <th>6</th>\n",
       "      <th>...</th>\n",
       "      <th>86</th>\n",
       "      <th>87</th>\n",
       "      <th>88</th>\n",
       "      <th>89</th>\n",
       "      <th>90</th>\n",
       "      <th>91</th>\n",
       "      <th>92</th>\n",
       "      <th>93</th>\n",
       "      <th>94</th>\n",
       "      <th>95</th>\n",
       "    </tr>\n",
       "  </thead>\n",
       "  <tbody>\n",
       "    <tr>\n",
       "      <th>0</th>\n",
       "      <td>NDARED632KNG</td>\n",
       "      <td>1</td>\n",
       "      <td>17.203855</td>\n",
       "      <td>209.718112</td>\n",
       "      <td>381.652211</td>\n",
       "      <td>214.320153</td>\n",
       "      <td>381.652211</td>\n",
       "      <td>56.129677</td>\n",
       "      <td>358.235969</td>\n",
       "      <td>291.505102</td>\n",
       "      <td>...</td>\n",
       "      <td>34.656888</td>\n",
       "      <td>354.353316</td>\n",
       "      <td>8.263605</td>\n",
       "      <td>247.242347</td>\n",
       "      <td>23.028486</td>\n",
       "      <td>341.757653</td>\n",
       "      <td>97.061650</td>\n",
       "      <td>369.377976</td>\n",
       "      <td>90.148810</td>\n",
       "      <td>369.377976</td>\n",
       "    </tr>\n",
       "    <tr>\n",
       "      <th>1</th>\n",
       "      <td>NDARFM080VAF</td>\n",
       "      <td>1</td>\n",
       "      <td>7.623203</td>\n",
       "      <td>166.838435</td>\n",
       "      <td>336.744048</td>\n",
       "      <td>145.366922</td>\n",
       "      <td>336.744048</td>\n",
       "      <td>49.201105</td>\n",
       "      <td>301.612245</td>\n",
       "      <td>202.822279</td>\n",
       "      <td>...</td>\n",
       "      <td>68.623724</td>\n",
       "      <td>313.786565</td>\n",
       "      <td>4.839286</td>\n",
       "      <td>149.860969</td>\n",
       "      <td>4.884779</td>\n",
       "      <td>126.546769</td>\n",
       "      <td>57.418367</td>\n",
       "      <td>323.283163</td>\n",
       "      <td>52.258929</td>\n",
       "      <td>316.735544</td>\n",
       "    </tr>\n",
       "    <tr>\n",
       "      <th>2</th>\n",
       "      <td>NDARFW130NGG</td>\n",
       "      <td>1</td>\n",
       "      <td>8.316107</td>\n",
       "      <td>128.911990</td>\n",
       "      <td>328.406463</td>\n",
       "      <td>166.497874</td>\n",
       "      <td>343.703656</td>\n",
       "      <td>45.776361</td>\n",
       "      <td>294.478316</td>\n",
       "      <td>181.946429</td>\n",
       "      <td>...</td>\n",
       "      <td>55.549320</td>\n",
       "      <td>307.250850</td>\n",
       "      <td>4.834609</td>\n",
       "      <td>80.788690</td>\n",
       "      <td>30.820153</td>\n",
       "      <td>280.695578</td>\n",
       "      <td>47.439626</td>\n",
       "      <td>306.156463</td>\n",
       "      <td>42.463435</td>\n",
       "      <td>311.316752</td>\n",
       "    </tr>\n",
       "    <tr>\n",
       "      <th>3</th>\n",
       "      <td>NDARHP656DLC</td>\n",
       "      <td>0</td>\n",
       "      <td>10.936459</td>\n",
       "      <td>132.957058</td>\n",
       "      <td>280.110119</td>\n",
       "      <td>33.508503</td>\n",
       "      <td>247.247874</td>\n",
       "      <td>58.221088</td>\n",
       "      <td>266.772534</td>\n",
       "      <td>136.699405</td>\n",
       "      <td>...</td>\n",
       "      <td>46.073129</td>\n",
       "      <td>207.093963</td>\n",
       "      <td>2.553997</td>\n",
       "      <td>86.233418</td>\n",
       "      <td>2.579507</td>\n",
       "      <td>129.354167</td>\n",
       "      <td>39.289541</td>\n",
       "      <td>237.555697</td>\n",
       "      <td>29.299745</td>\n",
       "      <td>244.744473</td>\n",
       "    </tr>\n",
       "    <tr>\n",
       "      <th>4</th>\n",
       "      <td>NDARDR658DRA</td>\n",
       "      <td>0</td>\n",
       "      <td>6.421857</td>\n",
       "      <td>153.317602</td>\n",
       "      <td>379.272959</td>\n",
       "      <td>191.645833</td>\n",
       "      <td>379.272959</td>\n",
       "      <td>14.439626</td>\n",
       "      <td>357.362245</td>\n",
       "      <td>351.558673</td>\n",
       "      <td>...</td>\n",
       "      <td>49.868197</td>\n",
       "      <td>361.213861</td>\n",
       "      <td>12.909864</td>\n",
       "      <td>356.203231</td>\n",
       "      <td>17.310374</td>\n",
       "      <td>345.225340</td>\n",
       "      <td>153.690901</td>\n",
       "      <td>366.453656</td>\n",
       "      <td>80.718537</td>\n",
       "      <td>363.887330</td>\n",
       "    </tr>\n",
       "  </tbody>\n",
       "</table>\n",
       "<p>5 rows × 99 columns</p>\n",
       "</div>"
      ],
      "text/plain": [
       "             id  sex        age           0           1           2  \\\n",
       "0  NDARED632KNG    1  17.203855  209.718112  381.652211  214.320153   \n",
       "1  NDARFM080VAF    1   7.623203  166.838435  336.744048  145.366922   \n",
       "2  NDARFW130NGG    1   8.316107  128.911990  328.406463  166.497874   \n",
       "3  NDARHP656DLC    0  10.936459  132.957058  280.110119   33.508503   \n",
       "4  NDARDR658DRA    0   6.421857  153.317602  379.272959  191.645833   \n",
       "\n",
       "            3          4           5           6     ...             86  \\\n",
       "0  381.652211  56.129677  358.235969  291.505102     ...      34.656888   \n",
       "1  336.744048  49.201105  301.612245  202.822279     ...      68.623724   \n",
       "2  343.703656  45.776361  294.478316  181.946429     ...      55.549320   \n",
       "3  247.247874  58.221088  266.772534  136.699405     ...      46.073129   \n",
       "4  379.272959  14.439626  357.362245  351.558673     ...      49.868197   \n",
       "\n",
       "           87         88          89         90          91          92  \\\n",
       "0  354.353316   8.263605  247.242347  23.028486  341.757653   97.061650   \n",
       "1  313.786565   4.839286  149.860969   4.884779  126.546769   57.418367   \n",
       "2  307.250850   4.834609   80.788690  30.820153  280.695578   47.439626   \n",
       "3  207.093963   2.553997   86.233418   2.579507  129.354167   39.289541   \n",
       "4  361.213861  12.909864  356.203231  17.310374  345.225340  153.690901   \n",
       "\n",
       "           93         94          95  \n",
       "0  369.377976  90.148810  369.377976  \n",
       "1  323.283163  52.258929  316.735544  \n",
       "2  306.156463  42.463435  311.316752  \n",
       "3  237.555697  29.299745  244.744473  \n",
       "4  366.453656  80.718537  363.887330  \n",
       "\n",
       "[5 rows x 99 columns]"
      ]
     },
     "execution_count": 2,
     "metadata": {},
     "output_type": "execute_result"
    }
   ],
   "source": [
    "# df = pd.read_csv('klocality_with_age-sex.csv')\n",
    "df = pd.read_csv('weighted_klocality_with_age-sex.csv')\n",
    "df.head()"
   ]
  },
  {
   "cell_type": "code",
   "execution_count": 3,
   "metadata": {},
   "outputs": [
    {
     "data": {
      "text/plain": [
       "(91, 99)"
      ]
     },
     "execution_count": 3,
     "metadata": {},
     "output_type": "execute_result"
    }
   ],
   "source": [
    "df.shape"
   ]
  },
  {
   "cell_type": "code",
   "execution_count": 4,
   "metadata": {},
   "outputs": [],
   "source": [
    "from sklearn.ensemble import AdaBoostClassifier, RandomForestClassifier\n",
    "from sklearn.model_selection import KFold"
   ]
  },
  {
   "cell_type": "code",
   "execution_count": 5,
   "metadata": {},
   "outputs": [],
   "source": [
    "kf = KFold(n_splits=5)\n",
    "clf = RandomForestClassifier(n_estimators=250)"
   ]
  },
  {
   "cell_type": "code",
   "execution_count": 6,
   "metadata": {
    "scrolled": true
   },
   "outputs": [
    {
     "name": "stdout",
     "output_type": "stream",
     "text": [
      "0\n",
      "1\n",
      "2\n",
      "3\n",
      "4\n",
      "5\n",
      "6\n",
      "7\n",
      "8\n",
      "9\n",
      "10\n",
      "11\n",
      "12\n",
      "13\n",
      "14\n",
      "15\n",
      "16\n",
      "17\n",
      "18\n",
      "19\n",
      "20\n",
      "21\n",
      "22\n",
      "23\n",
      "24\n",
      "25\n",
      "26\n",
      "27\n",
      "28\n",
      "29\n",
      "30\n",
      "31\n",
      "32\n",
      "33\n",
      "34\n",
      "35\n",
      "36\n",
      "37\n",
      "38\n",
      "39\n",
      "40\n",
      "41\n",
      "42\n",
      "43\n",
      "44\n",
      "45\n",
      "46\n",
      "47\n",
      "48\n",
      "49\n",
      "50\n",
      "51\n",
      "52\n",
      "53\n",
      "54\n",
      "55\n",
      "56\n",
      "57\n",
      "58\n",
      "59\n",
      "60\n",
      "61\n",
      "62\n",
      "63\n",
      "64\n",
      "65\n",
      "66\n",
      "67\n",
      "68\n",
      "69\n",
      "70\n",
      "71\n",
      "72\n",
      "73\n",
      "74\n",
      "75\n",
      "76\n",
      "77\n",
      "78\n",
      "79\n",
      "80\n",
      "81\n",
      "82\n",
      "83\n",
      "84\n",
      "85\n",
      "86\n",
      "87\n",
      "88\n",
      "89\n",
      "90\n",
      "91\n",
      "92\n",
      "93\n",
      "94\n",
      "95\n",
      "96\n",
      "97\n",
      "98\n",
      "99\n"
     ]
    }
   ],
   "source": [
    "res = []\n",
    "\n",
    "for i in range(100):\n",
    "    \n",
    "    print(i)\n",
    "\n",
    "    df_data = df[df.columns[3:]]\n",
    "    labels = df['sex']\n",
    "\n",
    "    acc = []\n",
    "\n",
    "    for train, test in kf.split(df):\n",
    "\n",
    "        # Split into train/test sets\n",
    "        X_train, y_train, X_test, y_test = df_data.iloc[train], labels.iloc[train], df_data.iloc[test], labels.iloc[test]\n",
    "\n",
    "        # Fit training data to model and predict test cases\n",
    "        y_pred = clf.fit(X_train, y_train).predict(X_test)\n",
    "\n",
    "        # Score the prediction\n",
    "        acc.append(accuracy_score(y_test, y_pred))\n",
    "        \n",
    "    res.append(np.mean(acc))"
   ]
  },
  {
   "cell_type": "code",
   "execution_count": 7,
   "metadata": {},
   "outputs": [
    {
     "data": {
      "text/plain": [
       "0.6603625730994154"
      ]
     },
     "execution_count": 7,
     "metadata": {},
     "output_type": "execute_result"
    }
   ],
   "source": [
    "np.mean(res)"
   ]
  },
  {
   "cell_type": "code",
   "execution_count": 8,
   "metadata": {},
   "outputs": [
    {
     "data": {
      "text/plain": [
       "0.013676356020426985"
      ]
     },
     "execution_count": 8,
     "metadata": {},
     "output_type": "execute_result"
    }
   ],
   "source": [
    "np.var(res) ** (1/2)"
   ]
  },
  {
   "cell_type": "code",
   "execution_count": 9,
   "metadata": {},
   "outputs": [
    {
     "data": {
      "text/plain": [
       "Text(0.5,0,'Accuracy')"
      ]
     },
     "execution_count": 9,
     "metadata": {},
     "output_type": "execute_result"
    },
    {
     "data": {
      "image/png": "[encoded data removed]",
      "text/plain": [
       "<matplotlib.figure.Figure at 0x10915acc0>"
      ]
     },
     "metadata": {},
     "output_type": "display_data"
    }
   ],
   "source": [
    "plt.hist(res)\n",
    "plt.title('PTR')\n",
    "plt.xlabel('Accuracy')"
   ]
  },
  {
   "cell_type": "code",
   "execution_count": null,
   "metadata": {},
   "outputs": [],
   "source": []
  }
 ],
 "metadata": {
  "kernelspec": {
   "display_name": "Python 3",
   "language": "python",
   "name": "python3"
  },
  "language_info": {
   "codemirror_mode": {
    "name": "ipython",
    "version": 3
   },
   "file_extension": ".py",
   "mimetype": "text/x-python",
   "name": "python",
   "nbconvert_exporter": "python",
   "pygments_lexer": "ipython3",
   "version": "3.6.4"
  }
 },
 "nbformat": 4,
 "nbformat_minor": 2
}
